{
 "cells": [
  {
   "cell_type": "code",
   "execution_count": 7,
   "id": "f763c046",
   "metadata": {},
   "outputs": [],
   "source": [
    "import json"
   ]
  },
  {
   "cell_type": "code",
   "execution_count": 8,
   "id": "e0a583d5",
   "metadata": {},
   "outputs": [
    {
     "ename": "FileNotFoundError",
     "evalue": "[Errno 2] No such file or directory: 'pw.json'",
     "output_type": "error",
     "traceback": [
      "\u001b[31m---------------------------------------------------------------------------\u001b[39m",
      "\u001b[31mFileNotFoundError\u001b[39m                         Traceback (most recent call last)",
      "\u001b[36mCell\u001b[39m\u001b[36m \u001b[39m\u001b[32mIn[8]\u001b[39m\u001b[32m, line 1\u001b[39m\n\u001b[32m----> \u001b[39m\u001b[32m1\u001b[39m \u001b[38;5;28;01mwith\u001b[39;00m \u001b[38;5;28;43mopen\u001b[39;49m\u001b[43m(\u001b[49m\u001b[33;43m\"\u001b[39;49m\u001b[33;43mpw.json\u001b[39;49m\u001b[33;43m\"\u001b[39;49m\u001b[43m,\u001b[49m\u001b[43m \u001b[49m\u001b[33;43m\"\u001b[39;49m\u001b[33;43mr\u001b[39;49m\u001b[33;43m\"\u001b[39;49m\u001b[43m)\u001b[49m \u001b[38;5;28;01mas\u001b[39;00m file:\n\u001b[32m      2\u001b[39m     data = json.load(file)\n\u001b[32m      4\u001b[39m \u001b[38;5;28mprint\u001b[39m(data)\n",
      "\u001b[36mFile \u001b[39m\u001b[32md:\\USER\\OneDrive\\Desktop\\Atten_mng\\backend\\myenv\\Lib\\site-packages\\IPython\\core\\interactiveshell.py:343\u001b[39m, in \u001b[36m_modified_open\u001b[39m\u001b[34m(file, *args, **kwargs)\u001b[39m\n\u001b[32m    336\u001b[39m \u001b[38;5;28;01mif\u001b[39;00m file \u001b[38;5;129;01min\u001b[39;00m {\u001b[32m0\u001b[39m, \u001b[32m1\u001b[39m, \u001b[32m2\u001b[39m}:\n\u001b[32m    337\u001b[39m     \u001b[38;5;28;01mraise\u001b[39;00m \u001b[38;5;167;01mValueError\u001b[39;00m(\n\u001b[32m    338\u001b[39m         \u001b[33mf\u001b[39m\u001b[33m\"\u001b[39m\u001b[33mIPython won\u001b[39m\u001b[33m'\u001b[39m\u001b[33mt let you open fd=\u001b[39m\u001b[38;5;132;01m{\u001b[39;00mfile\u001b[38;5;132;01m}\u001b[39;00m\u001b[33m by default \u001b[39m\u001b[33m\"\u001b[39m\n\u001b[32m    339\u001b[39m         \u001b[33m\"\u001b[39m\u001b[33mas it is likely to crash IPython. If you know what you are doing, \u001b[39m\u001b[33m\"\u001b[39m\n\u001b[32m    340\u001b[39m         \u001b[33m\"\u001b[39m\u001b[33myou can use builtins\u001b[39m\u001b[33m'\u001b[39m\u001b[33m open.\u001b[39m\u001b[33m\"\u001b[39m\n\u001b[32m    341\u001b[39m     )\n\u001b[32m--> \u001b[39m\u001b[32m343\u001b[39m \u001b[38;5;28;01mreturn\u001b[39;00m \u001b[43mio_open\u001b[49m\u001b[43m(\u001b[49m\u001b[43mfile\u001b[49m\u001b[43m,\u001b[49m\u001b[43m \u001b[49m\u001b[43m*\u001b[49m\u001b[43margs\u001b[49m\u001b[43m,\u001b[49m\u001b[43m \u001b[49m\u001b[43m*\u001b[49m\u001b[43m*\u001b[49m\u001b[43mkwargs\u001b[49m\u001b[43m)\u001b[49m\n",
      "\u001b[31mFileNotFoundError\u001b[39m: [Errno 2] No such file or directory: 'pw.json'"
     ]
    }
   ],
   "source": [
    "with open(\"pw.json\", \"r\") as file:\n",
    "    data = json.load(file)\n",
    "    \n",
    "print(data)"
   ]
  },
  {
   "cell_type": "code",
   "execution_count": 4,
   "id": "e6a0cc3c",
   "metadata": {},
   "outputs": [
    {
     "name": "stdout",
     "output_type": "stream",
     "text": [
      "Student Password: student123\n"
     ]
    }
   ],
   "source": [
    "st_pw = data.get(\"student_password\")\n",
    "print(f\"Student Password: {st_pw}\")"
   ]
  },
  {
   "cell_type": "code",
   "execution_count": 4,
   "id": "212f1e21",
   "metadata": {},
   "outputs": [],
   "source": [
    "from hashing import Hash "
   ]
  },
  {
   "cell_type": "code",
   "execution_count": 6,
   "id": "6d367e10",
   "metadata": {},
   "outputs": [
    {
     "name": "stdout",
     "output_type": "stream",
     "text": [
      "Hashed Password: $2b$12$kQuwY81DiA7xAHMQn0aeTeYSSV5y.cG.7HvWUaqNo.1zva9X8MtxG\n"
     ]
    }
   ],
   "source": [
    "pw =Hash.bcrypt(\"my_password\") # type: ignore\n",
    "print(f\"Hashed Password: {pw}\")\n"
   ]
  },
  {
   "cell_type": "code",
   "execution_count": null,
   "id": "31c9b842",
   "metadata": {},
   "outputs": [],
   "source": [
    "# import sys\n",
    "# import os\n",
    "\n",
    "# # Add parent directory to sys.path\n",
    "# sys.path.append(os.path.abspath(\"..\"))"
   ]
  },
  {
   "cell_type": "code",
   "execution_count": null,
   "id": "a6c2c8f6",
   "metadata": {},
   "outputs": [],
   "source": [
    "from repository.methods.hashing import Hash"
   ]
  },
  {
   "cell_type": "code",
   "execution_count": 15,
   "id": "f9257911",
   "metadata": {},
   "outputs": [
    {
     "name": "stdout",
     "output_type": "stream",
     "text": [
      "Hashed Password: $2b$12$zphm6R9kdThI.vzNExNE5eNuwhUKQaU4F74fRvqbNCdFIrVEB1dZO\n"
     ]
    }
   ],
   "source": [
    "pw =Hash.bcrypt(\"my_password\") # type: ignore\n",
    "print(f\"Hashed Password: {pw}\")"
   ]
  },
  {
   "cell_type": "code",
   "execution_count": 2,
   "id": "750048c5",
   "metadata": {},
   "outputs": [],
   "source": [
    "from var import passwords\n"
   ]
  },
  {
   "cell_type": "code",
   "execution_count": 5,
   "id": "2e9a102c",
   "metadata": {},
   "outputs": [
    {
     "ename": "TypeError",
     "evalue": "'dict' object is not callable",
     "output_type": "error",
     "traceback": [
      "\u001b[31m---------------------------------------------------------------------------\u001b[39m",
      "\u001b[31mTypeError\u001b[39m                                 Traceback (most recent call last)",
      "\u001b[36mCell\u001b[39m\u001b[36m \u001b[39m\u001b[32mIn[5]\u001b[39m\u001b[32m, line 1\u001b[39m\n\u001b[32m----> \u001b[39m\u001b[32m1\u001b[39m passwords = \u001b[43mpasswords\u001b[49m\u001b[43m(\u001b[49m\u001b[43m)\u001b[49m\n\u001b[32m      2\u001b[39m \u001b[38;5;28mprint\u001b[39m(\u001b[33mf\u001b[39m\u001b[33m\"\u001b[39m\u001b[33mAdmin Password: \u001b[39m\u001b[38;5;132;01m{\u001b[39;00mpasswords[\u001b[33m'\u001b[39m\u001b[33madmin_password\u001b[39m\u001b[33m'\u001b[39m]\u001b[38;5;132;01m}\u001b[39;00m\u001b[33m\"\u001b[39m)\n",
      "\u001b[31mTypeError\u001b[39m: 'dict' object is not callable"
     ]
    }
   ],
   "source": [
    "passwords = passwords()\n",
    "print(f\"Admin Password: {passwords['admin_password']}\")"
   ]
  },
  {
   "cell_type": "code",
   "execution_count": null,
   "id": "08ca004e",
   "metadata": {},
   "outputs": [],
   "source": [
    "{\n",
    "  \"dep\": \"CSBS\",\n",
    "  \"name\": \"Mrinmay\",\n",
    "  \"email\": \"mdas@123\",\n",
    "  \"u_roll\": \"1693112221\",\n",
    "  \"c_roll\": \"21\",\n",
    "  \"year\": 3,\n",
    "  \"sem\": 7,\n",
    "  \"role\": \"Student\"\n",
    "}"
   ]
  },
  {
   "cell_type": "code",
   "execution_count": null,
   "id": "e855f38c",
   "metadata": {},
   "outputs": [],
   "source": [
    "export const create_student = (props) => {\n",
    "  const redirect = useRedirect();\n",
    "  const [selectedYear, setSelectedYear] = useState(\"\");\n",
    "\n",
    "  const onSuccess = (data) => {\n",
    "    console.log(\"Student created:\", data);\n",
    "    redirect(\"/student\");\n",
    "  };\n",
    "\n",
    "  const transform = (data) => {\n",
    "    console.log(\"Form submitted:\", data);\n",
    "    return data;\n",
    "  };\n",
    "\n",
    "  // Filter sem choices based on selected year\n",
    "  const getSemChoices = () => {\n",
    "    const yearInt = parseInt(selectedYear);\n",
    "    if (!yearInt) return [];\n",
    "    const startSem = (yearInt - 1) * 2 + 1;\n",
    "    return semChoices.filter(\n",
    "      (sc) => parseInt(sc.id) === startSem || parseInt(sc.id) === startSem + 1\n",
    "    );\n",
    "  };\n",
    "\n",
    "  return (\n",
    "    <Create {...props} mutationOptions={{ onSuccess }}>\n",
    "      <SimpleForm transform={transform}>\n",
    "        <TextInput source=\"name\" />\n",
    "        <TextInput source=\"email\" />\n",
    "        <TextInput source=\"pw\" label=\"Password\" />\n",
    "\n",
    "   {/* ✅ Department Dropdown */}\n",
    "         <ReferenceInput\n",
    "           label=\"Department\"\n",
    "           source=\"Did\"\n",
    "           reference=\"department_students\"\n",
    "            // filter={{ role: \"student\" }}\n",
    "         >\n",
    "           <SelectInput optionText=\"dep\" />\n",
    "         </ReferenceInput>\n",
    "\n",
    "        <TextInput source=\"u_roll\" />\n",
    "        <TextInput source=\"c_roll\" />\n",
    "        <SelectInput\n",
    "          source=\"year\"\n",
    "          choices={yearChoices}\n",
    "          onChange={(e) => setSelectedYear(e.target.value)}\n",
    "        />\n",
    "        <SelectInput source=\"sem\" choices={getSemChoices()} />\n",
    "        <SelectInput source=\"role\" choices={roleChoices} />\n",
    "      </SimpleForm>\n",
    "    </Create>\n",
    "  );\n",
    "};"
   ]
  },
  {
   "cell_type": "code",
   "execution_count": null,
   "id": "78baf01f",
   "metadata": {},
   "outputs": [],
   "source": [
    "\n",
    "# @router.post(\"/\", status_code=status.HTTP_201_CREATED)\n",
    "# async def create_student(st: schemas.Student, db: Session = Depends(get_db)):\n",
    "#     dept = db.query(models.Department).filter(\n",
    "#         models.Department.Did == st.Did,\n",
    "#         models.Department.role == \"Student\"\n",
    "#     ).first()\n",
    "\n",
    "#     if not dept:\n",
    "#         raise HTTPException(status_code=404, detail=\"Department with role 'Student' not found\")\n",
    "\n",
    "#     new_student = models.Student(\n",
    "#         Did=dept.Did,\n",
    "#         name=st.name,\n",
    "#         email=st.email,\n",
    "#         pw = Hash.bcrypt(default_pw),\n",
    "#         u_roll=st.u_roll,\n",
    "#         c_roll=st.c_roll,\n",
    "#         year=st.year,\n",
    "#         sem=st.sem\n",
    "#     )\n",
    "\n",
    "#     db.add(new_student)\n",
    "#     db.commit()\n",
    "#     db.refresh(new_student)\n",
    "\n",
    "#     return {\n",
    "#         \"id\": new_student.Sid,\n",
    "#         \"role\": dept.role,\n",
    "#         \"name\": new_student.name,\n",
    "#         \"email\": new_student.email,\n",
    "#         \"dep\": dept.dep,\n",
    "#         \"u_roll\": new_student.u_roll,\n",
    "#         \"c_roll\": new_student.c_roll,\n",
    "#         \"year\": new_student.year,\n",
    "#         \"sem\": new_student.sem\n",
    "#     }"
   ]
  },
  {
   "cell_type": "code",
   "execution_count": null,
   "id": "d7a7abc6",
   "metadata": {},
   "outputs": [],
   "source": [
    "\n",
    "\n",
    "{\n",
    "    \"name\": 'Mdas123',\n",
    "    \"email\": 'mrinmay8240@gmail.com', \n",
    "    \"name_code\": 'hl2', \n",
    "    \"role\": 'Teacher'\n",
    "}"
   ]
  },
  {
   "cell_type": "code",
   "execution_count": null,
   "id": "ab802700",
   "metadata": {},
   "outputs": [],
   "source": [
    "# mdas@123   faculty123"
   ]
  },
  {
   "cell_type": "code",
   "execution_count": null,
   "id": "2cbbeb3e",
   "metadata": {},
   "outputs": [
    {
     "ename": "ModuleNotFoundError",
     "evalue": "No module named 'models'",
     "output_type": "error",
     "traceback": [
      "\u001b[31m---------------------------------------------------------------------------\u001b[39m",
      "\u001b[31mModuleNotFoundError\u001b[39m                       Traceback (most recent call last)",
      "\u001b[36mCell\u001b[39m\u001b[36m \u001b[39m\u001b[32mIn[2]\u001b[39m\u001b[32m, line 1\u001b[39m\n\u001b[32m----> \u001b[39m\u001b[32m1\u001b[39m \u001b[38;5;28;01mimport\u001b[39;00m\u001b[38;5;250m \u001b[39m\u001b[34;01mmodels\u001b[39;00m\n\u001b[32m      2\u001b[39m \u001b[38;5;28;01mfrom\u001b[39;00m\u001b[38;5;250m \u001b[39m\u001b[34;01msqlalchemy\u001b[39;00m\u001b[34;01m.\u001b[39;00m\u001b[34;01morm\u001b[39;00m\u001b[38;5;250m \u001b[39m\u001b[38;5;28;01mimport\u001b[39;00m Session\n\u001b[32m      3\u001b[39m \u001b[38;5;28;01mfrom\u001b[39;00m\u001b[38;5;250m \u001b[39m\u001b[34;01mfastapi\u001b[39;00m\u001b[38;5;250m \u001b[39m\u001b[38;5;28;01mimport\u001b[39;00m  Depends\n",
      "\u001b[31mModuleNotFoundError\u001b[39m: No module named 'models'"
     ]
    }
   ],
   "source": [
    "\n",
    "\n",
    "import models\n",
    "from sqlalchemy.orm import Session\n",
    "from fastapi import Depends\n",
    "from db import get_db\n",
    "\n",
    "def find_STid(Tid,dep,year,sem,sub_code,db: Session = Depends(get_db)) :\n",
    "    sub_teacher = db.query(models.SubjectTeacher).filter(\n",
    "        models.SubjectTeacher.Tid == Tid,\n",
    "        models.SubjectTeacher.dep == dep,\n",
    "        models.SubjectTeacher.year == year,\n",
    "        models.SubjectTeacher.sem == sem,\n",
    "        models.SubjectTeacher.sub_code == sub_code\n",
    "    ).first()\n",
    "    return sub_teacher.STid if sub_teacher else None"
   ]
  },
  {
   "cell_type": "code",
   "execution_count": null,
   "id": "54a61451",
   "metadata": {},
   "outputs": [],
   "source": []
  }
 ],
 "metadata": {
  "kernelspec": {
   "display_name": "myenv",
   "language": "python",
   "name": "python3"
  },
  "language_info": {
   "codemirror_mode": {
    "name": "ipython",
    "version": 3
   },
   "file_extension": ".py",
   "mimetype": "text/x-python",
   "name": "python",
   "nbconvert_exporter": "python",
   "pygments_lexer": "ipython3",
   "version": "3.11.4"
  }
 },
 "nbformat": 4,
 "nbformat_minor": 5
}
